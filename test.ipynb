{
 "metadata": {
  "language_info": {
   "codemirror_mode": {
    "name": "ipython",
    "version": 3
   },
   "file_extension": ".py",
   "mimetype": "text/x-python",
   "name": "python",
   "nbconvert_exporter": "python",
   "pygments_lexer": "ipython3",
   "version": "3.8.2-final"
  },
  "orig_nbformat": 2,
  "kernelspec": {
   "name": "python38264bita3ae2fc5d4634b33a1cab807e93452b1",
   "display_name": "Python 3.8.2 64-bit"
  }
 },
 "nbformat": 4,
 "nbformat_minor": 2,
 "cells": [
  {
   "cell_type": "code",
   "execution_count": null,
   "metadata": {},
   "outputs": [],
   "source": [
    "from DataTypes.KSpace.KData import KData\n",
    "import matplotlib.pyplot as plt\n",
    "\n"
   ]
  },
  {
   "cell_type": "code",
   "execution_count": null,
   "metadata": {},
   "outputs": [],
   "source": [
    "\n",
    "bla = KData('/home/touquet/DATA/ph_11072019_2035184_5_2_wip_phyllo_classicV4_k.mat','/home/touquet/DATA/ph_11072019_2035184_5_2_wip_phyllo_classicV4_kdata.mat',time_per_acquisition=0.06)\n"
   ]
  },
  {
   "cell_type": "code",
   "execution_count": null,
   "metadata": {
    "tags": []
   },
   "outputs": [],
   "source": [
    "ordered_points = bla.time_sorted()\n"
   ]
  },
  {
   "cell_type": "code",
   "execution_count": null,
   "metadata": {},
   "outputs": [],
   "source": [
    "# import numpy as np\n",
    "# indexes = bla.sorting_indexes(lambda point: point.t)\n",
    "# points = []\n",
    "# for i_coil in range(bla.n_coils):\n",
    "#     points.append([])\n",
    "#     for index in indexes:\n",
    "#         points[i_coil].append(np.absolute(bla.data[:,:,:,i_coil][tuple(index)]))\n",
    "# plt.plot(points[0])\n",
    "# plt.show()"
   ]
  },
  {
   "cell_type": "code",
   "execution_count": null,
   "metadata": {
    "tags": []
   },
   "outputs": [],
   "source": [
    "# print(ordered_points.shape)\n",
    "# print(indexes.shape, indexes.size)\n",
    "# print(bla.n_points)\n",
    "ordered_points[0][10:]"
   ]
  },
  {
   "cell_type": "code",
   "execution_count": null,
   "metadata": {},
   "outputs": [],
   "source": [
    "\n",
    "plt.plot(ordered_points[0])\n",
    "plt.yscale('log')\n",
    "plt.show()"
   ]
  },
  {
   "cell_type": "code",
   "execution_count": null,
   "metadata": {},
   "outputs": [],
   "source": [
    "import numpy as np\n",
    "blu = np.fft.fft(ordered_points[0])\n"
   ]
  },
  {
   "cell_type": "code",
   "execution_count": null,
   "metadata": {},
   "outputs": [],
   "source": [
    "plt.plot(blu)\n",
    "# plt.yscale('log')\n",
    "plt.ylim([0,6000])\n",
    "plt.xlim([1.8*1e6,3.8*1e6])\n",
    "plt.show()"
   ]
  },
  {
   "cell_type": "code",
   "execution_count": null,
   "metadata": {},
   "outputs": [],
   "source": []
  }
 ]
}