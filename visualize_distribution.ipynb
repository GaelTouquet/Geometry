{
 "cells": [
  {
   "cell_type": "code",
   "execution_count": 1,
   "metadata": {},
   "outputs": [],
   "source": [
    "N_total = 8 * 1597\n",
    "time_per_acquisition = 0.006"
   ]
  },
  {
   "cell_type": "code",
   "execution_count": null,
   "metadata": {},
   "outputs": [],
   "source": [
    "from Objects.Patterns import SpiralPhyllotaxisPattern\n",
    "article = SpiralPhyllotaxisPattern(1600,55,time_per_acquisition=time_per_acquisition,alternated_points=False)\n",
    "article.draw(title='Article, basic pattern', alpha=0.8, marker_size=1)"
   ]
  },
  {
   "cell_type": "code",
   "execution_count": null,
   "metadata": {},
   "outputs": [],
   "source": [
    "inverted_article = SpiralPhyllotaxisPattern(1600,55,time_per_acquisition=time_per_acquisition,alternated_points=True)\n",
    "inverted_article.draw(title='Article, alternated basic pattern', alpha=0.8, marker_size=1)"
   ]
  },
  {
   "cell_type": "code",
   "execution_count": null,
   "metadata": {},
   "outputs": [],
   "source": [
    "#cardiac phases\n",
    "from Tools.Heart import Heart\n",
    "heart = Heart(N_total*time_per_acquisition)\n",
    "inverted_article.separate_in_time_phases(heart.phases)\n",
    "inverted_article.draw('Article, alternated basic pattern with cardiac phases', colour='cardiac_phase',alpha=0.8, marker_size=1)"
   ]
  },
  {
   "cell_type": "code",
   "execution_count": null,
   "metadata": {},
   "outputs": [],
   "source": [
    "def is_first_cardiac_phase(point):\n",
    "    return point.cardiac_phase == 0\n",
    "\n",
    "inverted_article.draw('Article, alternated basic pattern with cardiac phases', colour='cardiac_phase',alpha=0.8, filter_func=is_first_cardiac_phase, marker_size=1)"
   ]
  },
  {
   "cell_type": "code",
   "execution_count": null,
   "metadata": {},
   "outputs": [],
   "source": [
    "#now monica's\n",
    "for n_interleaf in [4,8,16,32]:\n",
    "    monicas = SpiralPhyllotaxisPattern(N_total,n_interleaf,time_per_acquisition=time_per_acquisition,alternated_points=True)\n",
    "    monicas.draw(title='N_total = {} , {} interleaves'.format(N_total,n_interleaf), colour='interleaf')"
   ]
  },
  {
   "cell_type": "code",
   "execution_count": null,
   "metadata": {},
   "outputs": [],
   "source": [
    "#articles to show n_interleaf does not change pattern, just interleave style\n",
    "def only_first_interleaf(point):\n",
    "    return point.interleaf == 0\n",
    "fibo = [377]\n",
    "for n_interleaf in fibo:\n",
    "    article = SpiralPhyllotaxisPattern(1508,n_interleaf,time_per_acquisition=time_per_acquisition,alternated_points=True)\n",
    "    article.draw(title='Article N_total = {} , {} interleaf'.format(1508,n_interleaf), alpha=0.9, marker_size=10)"
   ]
  }
 ],
 "metadata": {
  "language_info": {
   "codemirror_mode": {
    "name": "ipython",
    "version": 3
   },
   "file_extension": ".py",
   "mimetype": "text/x-python",
   "name": "python",
   "nbconvert_exporter": "python",
   "pygments_lexer": "ipython3",
   "version": "3.8.2-final"
  },
  "orig_nbformat": 2,
  "kernelspec": {
   "name": "python38232bit9b1e67a201f54f8796ee86e11b562e4f",
   "display_name": "Python 3.8.2 32-bit"
  }
 },
 "nbformat": 4,
 "nbformat_minor": 2
}